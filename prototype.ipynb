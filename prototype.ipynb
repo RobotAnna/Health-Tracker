{
 "cells": [
  {
   "cell_type": "markdown",
   "metadata": {},
   "source": [
    "Prototype where I write down all steps in case this becomes an instructional blog later.\n",
    "\n",
    "Approach:\n",
    "1. Set up connection to Strava\n",
    "2. Set up local pgres database\n",
    "3. Design\n",
    "4. Retrieve data using Strava API\n",
    "5. Load data to database"
   ]
  },
  {
   "cell_type": "markdown",
   "metadata": {},
   "source": [
    "# Export strava data (using Stravalib) to local\n",
    "\n",
    "This notebook includes the code as dicussed in the following Medium blog post:\n",
    "https://medium.com/@mandieq/accessing-user-data-via-the-strava-api-using-stravalib-d5bee7fdde17\n",
    "\n",
    "Documentation: authentication\n",
    "https://stravalib.readthedocs.io/en/latest/get-started/authenticate-with-strava.html\n",
    "\n",
    "Documentation: working with activities\n",
    "https://stravalib.readthedocs.io/en/latest/get-started/activities.html\n",
    "\n"
   ]
  },
  {
   "cell_type": "markdown",
   "metadata": {},
   "source": [
    "## Connection to Strava\n",
    "\n",
    "### Create a new application\n",
    "Log into strava.com, navigate to your profile, Settings, My API Application. Create an application.\n",
    "https://www.strava.com/settings/api\n",
    "\n",
    "Create a new application. Callback domain = localhost. Other parameters are arbitrary. Upload an icon. \n",
    "\n",
    "Make note of the client id and client secret. The other 2x tokens aren't useful because the scope isn't enough to retrieve data.\n"
   ]
  },
  {
   "cell_type": "markdown",
   "metadata": {},
   "source": [
    "Load ID and secret for your Strava App as set up via Strava's developer area:"
   ]
  },
  {
   "cell_type": "code",
   "execution_count": 1,
   "metadata": {},
   "outputs": [],
   "source": [
    "import json\n",
    "from stravalib import Client\n",
    "client = Client()"
   ]
  },
  {
   "cell_type": "code",
   "execution_count": 2,
   "metadata": {},
   "outputs": [
    {
     "name": "stdout",
     "output_type": "stream",
     "text": [
      "client_ID= 108084 secret= bd51d6ce5c6c2e663f195859b3b092631bcd6242\n"
     ]
    }
   ],
   "source": [
    "CLIENT_ID = '108084'\n",
    "CLIENT_SECRET = 'bd51d6ce5c6c2e663f195859b3b092631bcd6242'\n",
    "print ('client_ID=', CLIENT_ID, 'secret=', CLIENT_SECRET)"
   ]
  },
  {
   "cell_type": "markdown",
   "metadata": {},
   "source": [
    "### One time authentication with athlete\n",
    "\n",
    "Only needs to be done once in order to get auth token. Hereafter you use the refresh token to get a new one when the old one runs out. \n",
    "\n",
    "The cells below need to be converted back to code cells in order to run them. Note: **once only**!\n",
    "\n",
    "Copy/paste the resulting URL into a browser. Click the Authorize button. Copy paste the resulting URL.\n",
    "Copy down the code in the middle of the URL (between code= and scope=)\n"
   ]
  },
  {
   "cell_type": "code",
   "execution_count": 6,
   "metadata": {},
   "outputs": [
    {
     "name": "stdout",
     "output_type": "stream",
     "text": [
      "https://www.strava.com/oauth/authorize?client_id=108084&redirect_uri=http%3A%2F%2F127.0.0.1%3A5000%2Fauthorization&approval_prompt=auto&scope=read%2Cactivity%3Aread&response_type=code\n"
     ]
    }
   ],
   "source": [
    "url = client.authorization_url(client_id=CLIENT_ID,\n",
    "                               redirect_uri='http://127.0.0.1:5000/authorization')\n",
    "print(url)\n",
    "\n",
    "#http://127.0.0.1:5000/authorization?state=&code=0cfa95587f7f320a002dc2eaa89d9b1693aba03a&scope=read,activity:read\n",
    "#0cfa95587f7f320a002dc2eaa89d9b1693aba03a\n",
    "\n",
    "http://127.0.0.1:5000/authorization?state=&code=e2e75695129d7dae82394b97917604720476c56d&scope=read,activity:read\n",
    "e2e75695129d7dae82394b97917604720476c56d\n",
    "\n"
   ]
  },
  {
   "cell_type": "code",
   "execution_count": 7,
   "metadata": {},
   "outputs": [
    {
     "name": "stdout",
     "output_type": "stream",
     "text": [
      "auth_code= e2e75695129d7dae82394b97917604720476c56d\n"
     ]
    }
   ],
   "source": [
    "AUTH_CODE = 'e2e75695129d7dae82394b97917604720476c56d'\n",
    "print('auth_code=', AUTH_CODE)"
   ]
  },
  {
   "cell_type": "markdown",
   "metadata": {},
   "source": [
    "### Exchange auth code for access token + refresh token"
   ]
  },
  {
   "cell_type": "code",
   "execution_count": 5,
   "metadata": {},
   "outputs": [
    {
     "name": "stderr",
     "output_type": "stream",
     "text": [
      "No rates present in response headers\n"
     ]
    },
    {
     "ename": "Fault",
     "evalue": "400 Client Error: Bad Request [Bad Request: [{'resource': 'AuthorizationCode', 'field': 'code', 'code': 'invalid'}]]",
     "output_type": "error",
     "traceback": [
      "\u001b[1;31m---------------------------------------------------------------------------\u001b[0m",
      "\u001b[1;31mFault\u001b[0m                                     Traceback (most recent call last)",
      "Cell \u001b[1;32mIn[5], line 2\u001b[0m\n\u001b[0;32m      1\u001b[0m client \u001b[38;5;241m=\u001b[39m Client()\n\u001b[1;32m----> 2\u001b[0m token_response \u001b[38;5;241m=\u001b[39m \u001b[43mclient\u001b[49m\u001b[38;5;241;43m.\u001b[39;49m\u001b[43mexchange_code_for_token\u001b[49m\u001b[43m(\u001b[49m\u001b[43mclient_id\u001b[49m\u001b[38;5;241;43m=\u001b[39;49m\u001b[43mCLIENT_ID\u001b[49m\u001b[43m,\u001b[49m\n\u001b[0;32m      3\u001b[0m \u001b[43m                                              \u001b[49m\u001b[43mclient_secret\u001b[49m\u001b[38;5;241;43m=\u001b[39;49m\u001b[43mCLIENT_SECRET\u001b[49m\u001b[43m,\u001b[49m\n\u001b[0;32m      4\u001b[0m \u001b[43m                                              \u001b[49m\u001b[43mcode\u001b[49m\u001b[38;5;241;43m=\u001b[39;49m\u001b[43mAUTH_CODE\u001b[49m\u001b[43m)\u001b[49m\n\u001b[0;32m      5\u001b[0m access_token \u001b[38;5;241m=\u001b[39m token_response[\u001b[38;5;124m'\u001b[39m\u001b[38;5;124maccess_token\u001b[39m\u001b[38;5;124m'\u001b[39m]\n\u001b[0;32m      6\u001b[0m refresh_token \u001b[38;5;241m=\u001b[39m token_response[\u001b[38;5;124m'\u001b[39m\u001b[38;5;124mrefresh_token\u001b[39m\u001b[38;5;124m'\u001b[39m]  \u001b[38;5;66;03m# You'll need this in 6 hours\u001b[39;00m\n",
      "File \u001b[1;32mc:\\Users\\NerridaDempster\\AppData\\Local\\Programs\\Python\\Python312\\Lib\\site-packages\\stravalib\\client.py:203\u001b[0m, in \u001b[0;36mClient.exchange_code_for_token\u001b[1;34m(self, client_id, client_secret, code)\u001b[0m\n\u001b[0;32m    178\u001b[0m \u001b[38;5;28;01mdef\u001b[39;00m \u001b[38;5;21mexchange_code_for_token\u001b[39m(\n\u001b[0;32m    179\u001b[0m     \u001b[38;5;28mself\u001b[39m, client_id: \u001b[38;5;28mint\u001b[39m, client_secret: \u001b[38;5;28mstr\u001b[39m, code: \u001b[38;5;28mstr\u001b[39m\n\u001b[0;32m    180\u001b[0m ) \u001b[38;5;241m-\u001b[39m\u001b[38;5;241m>\u001b[39m AccessInfo:\n\u001b[0;32m    181\u001b[0m \u001b[38;5;250m    \u001b[39m\u001b[38;5;124;03m\"\"\"Exchange the temporary authorization code (returned with redirect\u001b[39;00m\n\u001b[0;32m    182\u001b[0m \u001b[38;5;124;03m    from strava authorization URL)  for a short-lived access token and a\u001b[39;00m\n\u001b[0;32m    183\u001b[0m \u001b[38;5;124;03m    refresh token (used to obtain the next access token later on).\u001b[39;00m\n\u001b[1;32m   (...)\u001b[0m\n\u001b[0;32m    201\u001b[0m \n\u001b[0;32m    202\u001b[0m \u001b[38;5;124;03m    \"\"\"\u001b[39;00m\n\u001b[1;32m--> 203\u001b[0m     \u001b[38;5;28;01mreturn\u001b[39;00m \u001b[38;5;28;43mself\u001b[39;49m\u001b[38;5;241;43m.\u001b[39;49m\u001b[43mprotocol\u001b[49m\u001b[38;5;241;43m.\u001b[39;49m\u001b[43mexchange_code_for_token\u001b[49m\u001b[43m(\u001b[49m\n\u001b[0;32m    204\u001b[0m \u001b[43m        \u001b[49m\u001b[43mclient_id\u001b[49m\u001b[38;5;241;43m=\u001b[39;49m\u001b[43mclient_id\u001b[49m\u001b[43m,\u001b[49m\u001b[43m \u001b[49m\u001b[43mclient_secret\u001b[49m\u001b[38;5;241;43m=\u001b[39;49m\u001b[43mclient_secret\u001b[49m\u001b[43m,\u001b[49m\u001b[43m \u001b[49m\u001b[43mcode\u001b[49m\u001b[38;5;241;43m=\u001b[39;49m\u001b[43mcode\u001b[49m\n\u001b[0;32m    205\u001b[0m \u001b[43m    \u001b[49m\u001b[43m)\u001b[49m\n",
      "File \u001b[1;32mc:\\Users\\NerridaDempster\\AppData\\Local\\Programs\\Python\\Python312\\Lib\\site-packages\\stravalib\\protocol.py:186\u001b[0m, in \u001b[0;36mApiV3.exchange_code_for_token\u001b[1;34m(self, client_id, client_secret, code)\u001b[0m\n\u001b[0;32m    163\u001b[0m \u001b[38;5;28;01mdef\u001b[39;00m \u001b[38;5;21mexchange_code_for_token\u001b[39m(\n\u001b[0;32m    164\u001b[0m     \u001b[38;5;28mself\u001b[39m, client_id: \u001b[38;5;28mint\u001b[39m, client_secret: \u001b[38;5;28mstr\u001b[39m, code: \u001b[38;5;28mstr\u001b[39m\n\u001b[0;32m    165\u001b[0m ) \u001b[38;5;241m-\u001b[39m\u001b[38;5;241m>\u001b[39m AccessInfo:\n\u001b[0;32m    166\u001b[0m \u001b[38;5;250m    \u001b[39m\u001b[38;5;124;03m\"\"\"Exchange the temporary authorization code (returned with redirect\u001b[39;00m\n\u001b[0;32m    167\u001b[0m \u001b[38;5;124;03m    from Strava authorization URL) for a short-lived access token and a\u001b[39;00m\n\u001b[0;32m    168\u001b[0m \u001b[38;5;124;03m    refresh token (used to obtain the next access token later on).\u001b[39;00m\n\u001b[1;32m   (...)\u001b[0m\n\u001b[0;32m    184\u001b[0m \u001b[38;5;124;03m        access token will expire)\u001b[39;00m\n\u001b[0;32m    185\u001b[0m \u001b[38;5;124;03m    \"\"\"\u001b[39;00m\n\u001b[1;32m--> 186\u001b[0m     response \u001b[38;5;241m=\u001b[39m \u001b[38;5;28;43mself\u001b[39;49m\u001b[38;5;241;43m.\u001b[39;49m\u001b[43m_request\u001b[49m\u001b[43m(\u001b[49m\n\u001b[0;32m    187\u001b[0m \u001b[43m        \u001b[49m\u001b[38;5;124;43mf\u001b[39;49m\u001b[38;5;124;43m\"\u001b[39;49m\u001b[38;5;124;43mhttps://\u001b[39;49m\u001b[38;5;132;43;01m{\u001b[39;49;00m\u001b[38;5;28;43mself\u001b[39;49m\u001b[38;5;241;43m.\u001b[39;49m\u001b[43mserver\u001b[49m\u001b[38;5;132;43;01m}\u001b[39;49;00m\u001b[38;5;124;43m/oauth/token\u001b[39;49m\u001b[38;5;124;43m\"\u001b[39;49m\u001b[43m,\u001b[49m\n\u001b[0;32m    188\u001b[0m \u001b[43m        \u001b[49m\u001b[43mparams\u001b[49m\u001b[38;5;241;43m=\u001b[39;49m\u001b[43m{\u001b[49m\n\u001b[0;32m    189\u001b[0m \u001b[43m            \u001b[49m\u001b[38;5;124;43m\"\u001b[39;49m\u001b[38;5;124;43mclient_id\u001b[39;49m\u001b[38;5;124;43m\"\u001b[39;49m\u001b[43m:\u001b[49m\u001b[43m \u001b[49m\u001b[43mclient_id\u001b[49m\u001b[43m,\u001b[49m\n\u001b[0;32m    190\u001b[0m \u001b[43m            \u001b[49m\u001b[38;5;124;43m\"\u001b[39;49m\u001b[38;5;124;43mclient_secret\u001b[39;49m\u001b[38;5;124;43m\"\u001b[39;49m\u001b[43m:\u001b[49m\u001b[43m \u001b[49m\u001b[43mclient_secret\u001b[49m\u001b[43m,\u001b[49m\n\u001b[0;32m    191\u001b[0m \u001b[43m            \u001b[49m\u001b[38;5;124;43m\"\u001b[39;49m\u001b[38;5;124;43mcode\u001b[39;49m\u001b[38;5;124;43m\"\u001b[39;49m\u001b[43m:\u001b[49m\u001b[43m \u001b[49m\u001b[43mcode\u001b[49m\u001b[43m,\u001b[49m\n\u001b[0;32m    192\u001b[0m \u001b[43m            \u001b[49m\u001b[38;5;124;43m\"\u001b[39;49m\u001b[38;5;124;43mgrant_type\u001b[39;49m\u001b[38;5;124;43m\"\u001b[39;49m\u001b[43m:\u001b[49m\u001b[43m \u001b[49m\u001b[38;5;124;43m\"\u001b[39;49m\u001b[38;5;124;43mauthorization_code\u001b[39;49m\u001b[38;5;124;43m\"\u001b[39;49m\u001b[43m,\u001b[49m\n\u001b[0;32m    193\u001b[0m \u001b[43m        \u001b[49m\u001b[43m}\u001b[49m\u001b[43m,\u001b[49m\n\u001b[0;32m    194\u001b[0m \u001b[43m        \u001b[49m\u001b[43mmethod\u001b[49m\u001b[38;5;241;43m=\u001b[39;49m\u001b[38;5;124;43m\"\u001b[39;49m\u001b[38;5;124;43mPOST\u001b[39;49m\u001b[38;5;124;43m\"\u001b[39;49m\u001b[43m,\u001b[49m\n\u001b[0;32m    195\u001b[0m \u001b[43m    \u001b[49m\u001b[43m)\u001b[49m\n\u001b[0;32m    196\u001b[0m     access_info: AccessInfo \u001b[38;5;241m=\u001b[39m {\n\u001b[0;32m    197\u001b[0m         \u001b[38;5;124m\"\u001b[39m\u001b[38;5;124maccess_token\u001b[39m\u001b[38;5;124m\"\u001b[39m: response[\u001b[38;5;124m\"\u001b[39m\u001b[38;5;124maccess_token\u001b[39m\u001b[38;5;124m\"\u001b[39m],\n\u001b[0;32m    198\u001b[0m         \u001b[38;5;124m\"\u001b[39m\u001b[38;5;124mrefresh_token\u001b[39m\u001b[38;5;124m\"\u001b[39m: response[\u001b[38;5;124m\"\u001b[39m\u001b[38;5;124mrefresh_token\u001b[39m\u001b[38;5;124m\"\u001b[39m],\n\u001b[0;32m    199\u001b[0m         \u001b[38;5;124m\"\u001b[39m\u001b[38;5;124mexpires_at\u001b[39m\u001b[38;5;124m\"\u001b[39m: response[\u001b[38;5;124m\"\u001b[39m\u001b[38;5;124mexpires_at\u001b[39m\u001b[38;5;124m\"\u001b[39m],\n\u001b[0;32m    200\u001b[0m     }\n\u001b[0;32m    201\u001b[0m     \u001b[38;5;28mself\u001b[39m\u001b[38;5;241m.\u001b[39maccess_token \u001b[38;5;241m=\u001b[39m response[\u001b[38;5;124m\"\u001b[39m\u001b[38;5;124maccess_token\u001b[39m\u001b[38;5;124m\"\u001b[39m]\n",
      "File \u001b[1;32mc:\\Users\\NerridaDempster\\AppData\\Local\\Programs\\Python\\Python312\\Lib\\site-packages\\stravalib\\protocol.py:327\u001b[0m, in \u001b[0;36mApiV3._request\u001b[1;34m(self, url, params, files, method, check_for_errors)\u001b[0m\n\u001b[0;32m    324\u001b[0m \u001b[38;5;28mself\u001b[39m\u001b[38;5;241m.\u001b[39mrate_limiter(raw\u001b[38;5;241m.\u001b[39mheaders, method)\n\u001b[0;32m    326\u001b[0m \u001b[38;5;28;01mif\u001b[39;00m check_for_errors:\n\u001b[1;32m--> 327\u001b[0m     \u001b[38;5;28;43mself\u001b[39;49m\u001b[38;5;241;43m.\u001b[39;49m\u001b[43m_handle_protocol_error\u001b[49m\u001b[43m(\u001b[49m\u001b[43mraw\u001b[49m\u001b[43m)\u001b[49m\n\u001b[0;32m    329\u001b[0m \u001b[38;5;66;03m# 204 = No content\u001b[39;00m\n\u001b[0;32m    330\u001b[0m \u001b[38;5;28;01mif\u001b[39;00m raw\u001b[38;5;241m.\u001b[39mstatus_code \u001b[38;5;129;01min\u001b[39;00m [\u001b[38;5;241m204\u001b[39m]:\n",
      "File \u001b[1;32mc:\\Users\\NerridaDempster\\AppData\\Local\\Programs\\Python\\Python312\\Lib\\site-packages\\stravalib\\protocol.py:378\u001b[0m, in \u001b[0;36mApiV3._handle_protocol_error\u001b[1;34m(self, response)\u001b[0m\n\u001b[0;32m    372\u001b[0m \u001b[38;5;28;01melif\u001b[39;00m \u001b[38;5;241m400\u001b[39m \u001b[38;5;241m<\u001b[39m\u001b[38;5;241m=\u001b[39m response\u001b[38;5;241m.\u001b[39mstatus_code \u001b[38;5;241m<\u001b[39m \u001b[38;5;241m500\u001b[39m:\n\u001b[0;32m    373\u001b[0m     msg \u001b[38;5;241m=\u001b[39m \u001b[38;5;124m\"\u001b[39m\u001b[38;5;132;01m{}\u001b[39;00m\u001b[38;5;124m Client Error: \u001b[39m\u001b[38;5;132;01m{}\u001b[39;00m\u001b[38;5;124m [\u001b[39m\u001b[38;5;132;01m{}\u001b[39;00m\u001b[38;5;124m]\u001b[39m\u001b[38;5;124m\"\u001b[39m\u001b[38;5;241m.\u001b[39mformat(\n\u001b[0;32m    374\u001b[0m         response\u001b[38;5;241m.\u001b[39mstatus_code,\n\u001b[0;32m    375\u001b[0m         response\u001b[38;5;241m.\u001b[39mreason,\n\u001b[0;32m    376\u001b[0m         error_str,\n\u001b[0;32m    377\u001b[0m     )\n\u001b[1;32m--> 378\u001b[0m     \u001b[38;5;28;01mraise\u001b[39;00m exc\u001b[38;5;241m.\u001b[39mFault(msg, response\u001b[38;5;241m=\u001b[39mresponse)\n\u001b[0;32m    379\u001b[0m \u001b[38;5;28;01melif\u001b[39;00m \u001b[38;5;241m500\u001b[39m \u001b[38;5;241m<\u001b[39m\u001b[38;5;241m=\u001b[39m response\u001b[38;5;241m.\u001b[39mstatus_code \u001b[38;5;241m<\u001b[39m \u001b[38;5;241m600\u001b[39m:\n\u001b[0;32m    380\u001b[0m     msg \u001b[38;5;241m=\u001b[39m \u001b[38;5;124m\"\u001b[39m\u001b[38;5;132;01m{}\u001b[39;00m\u001b[38;5;124m Server Error: \u001b[39m\u001b[38;5;132;01m{}\u001b[39;00m\u001b[38;5;124m [\u001b[39m\u001b[38;5;132;01m{}\u001b[39;00m\u001b[38;5;124m]\u001b[39m\u001b[38;5;124m\"\u001b[39m\u001b[38;5;241m.\u001b[39mformat(\n\u001b[0;32m    381\u001b[0m         response\u001b[38;5;241m.\u001b[39mstatus_code,\n\u001b[0;32m    382\u001b[0m         response\u001b[38;5;241m.\u001b[39mreason,\n\u001b[0;32m    383\u001b[0m         error_str,\n\u001b[0;32m    384\u001b[0m     )\n",
      "\u001b[1;31mFault\u001b[0m: 400 Client Error: Bad Request [Bad Request: [{'resource': 'AuthorizationCode', 'field': 'code', 'code': 'invalid'}]]"
     ]
    }
   ],
   "source": [
    "client = Client()\n",
    "token_response = client.exchange_code_for_token(client_id=CLIENT_ID,\n",
    "                                              client_secret=CLIENT_SECRET,\n",
    "                                              code=AUTH_CODE)\n",
    "access_token = token_response['access_token']\n",
    "refresh_token = token_response['refresh_token']  # You'll need this in 6 hours\n",
    "print(token_response)\n",
    "\n",
    "with open('strava.token', 'w') as outfile:\n",
    "    json.dump(token_response, outfile)\n"
   ]
  },
  {
   "cell_type": "code",
   "execution_count": 10,
   "metadata": {},
   "outputs": [
    {
     "name": "stdout",
     "output_type": "stream",
     "text": [
      "{'access_token': '4036f218c5bfb98132b851bb6358091b5a4be18a', 'refresh_token': '0967598ae6324d33c3790bfe68e7a1cf84f42e20', 'expires_at': 1714391942}\n"
     ]
    }
   ],
   "source": [
    "# Retrieve tokens from token file\n",
    "token_string = ''\n",
    "with open('strava.token', 'r') as infile:\n",
    "    token_string = json.load(infile)\n",
    "print(token_string)\n",
    "\n",
    "access_token = token_string['access_token']\n",
    "refresh_token = token_string['refresh_token']\n",
    "expires_at = token_string['expires_at']"
   ]
  },
  {
   "cell_type": "markdown",
   "metadata": {},
   "source": [
    "### Refresh access token\n"
   ]
  },
  {
   "cell_type": "code",
   "execution_count": 11,
   "metadata": {},
   "outputs": [
    {
     "name": "stderr",
     "output_type": "stream",
     "text": [
      "No rates present in response headers\n"
     ]
    },
    {
     "name": "stdout",
     "output_type": "stream",
     "text": [
      "{'access_token': '65accda439e6fb67195e96c634f2f926996c18b0', 'refresh_token': '0967598ae6324d33c3790bfe68e7a1cf84f42e20', 'expires_at': 1714564552}\n"
     ]
    }
   ],
   "source": [
    "token_response = client.refresh_access_token(client_id=CLIENT_ID,\n",
    "                                      client_secret=CLIENT_SECRET,\n",
    "                                      refresh_token=refresh_token)\n",
    "print(token_response)\n",
    "\n",
    "with open('strava.token', 'w') as outfile:\n",
    "    json.dump(token_response, outfile)"
   ]
  },
  {
   "cell_type": "markdown",
   "metadata": {},
   "source": [
    "### check when token expires"
   ]
  },
  {
   "cell_type": "code",
   "execution_count": 7,
   "metadata": {},
   "outputs": [
    {
     "name": "stdout",
     "output_type": "stream",
     "text": [
      "expires_at= 1714564552\n",
      "2024-05-01 13:55:52\n",
      "20240501135552\n"
     ]
    }
   ],
   "source": [
    "from datetime import datetime\n",
    "\n",
    "expires_at = '1714564552'\n",
    "print('expires_at=',expires_at)\n",
    "print(datetime.fromtimestamp(int(expires_at)))\n",
    "print(datetime.fromtimestamp(int(expires_at)).strftime(\"%Y%m%d%H%M%S\"))\n",
    "\n"
   ]
  },
  {
   "cell_type": "code",
   "execution_count": 14,
   "metadata": {},
   "outputs": [
    {
     "name": "stdout",
     "output_type": "stream",
     "text": [
      "2024-05-01 07:56:35.938882\n",
      "no need to renew the refresh token\n"
     ]
    }
   ],
   "source": [
    "\n",
    "print(datetime.now())\n",
    "\n",
    "if datetime.now() < datetime.fromtimestamp(int(expires_at)):\n",
    "    print('no need to renew the refresh token')\n",
    "elif datetime.now() > datetime.fromtimestamp(int(expires_at)):\n",
    "    print('time to renew the refresh token')\n",
    "else:\n",
    "    print('dunno')\n"
   ]
  },
  {
   "cell_type": "markdown",
   "metadata": {},
   "source": [
    "## Design"
   ]
  },
  {
   "cell_type": "markdown",
   "metadata": {},
   "source": [
    "Create one schema for historical load of raw data: STG (staging)\n",
    "Create one schema for transformed model: DM (data mart)\n",
    "Can I simply create views for DM? --> most likely, yes.\n",
    "\n",
    "Create log tables\n",
    "STG_LOG\n",
    "Purpose: log each ingestion.\n",
    "Columns: source_id, table_name, load_date, export_date, file_path (incl name), total_rows_in_file, total_rows_ingested\n",
    "STG_CONFIG\n",
    "Purpose: describe tables in STG, one record for each table\n",
    "* which table(s) from each source\n",
    "* which column is BK in each table\n",
    "\n",
    "The potential source tables under STG, format <source name>_<api or entity> Eg.\n",
    "STRAVA_ATHLETE\n",
    "STRAVA_GEAR\n",
    "STRAVA_ACTIVITY\n",
    "REF_DATE\n",
    "KNMI_weather_something\n",
    "GARMIN_SLEEP\n",
    "GARMIN_ATHLETE\n",
    "GARMIN_period_something\n",
    "\n",
    "Keep all original column names in STG, even if they contain nulls.\n",
    "\n",
    "Extra audit columns:\n",
    "LOAD_DATE\n",
    "UPDATE_DATE\n",
    "HASH (all orig columns in alphabetical order)\n",
    "BK (the ID from Strava, or eventually fake ID from other sources)\n"
   ]
  },
  {
   "cell_type": "markdown",
   "metadata": {},
   "source": [
    "Script 1: AUTHENTICATE\n",
    "\n",
    "Usage\n",
    "\n",
    "\n",
    "Logic\n",
    "\n",
    "idea --> put tokens for all sources into one file called all.tokens\n",
    "example format:\n",
    "{\"source\":\"strava\", \"access_token\": \"xxxxx\", \"refresh_token\": \"xxxxx\", \"expires_at\": 20240414112244, \"last_load_date\": 20240414112244}\n",
    "{\"source\":\"garmin\", \"athlete_id\": 12345, \"last_load_date\": 20240414112244}\n",
    "\n",
    "\n",
    "\n",
    "--------------------------------------------------------\n",
    "\n",
    "Script 2: RETRIEVE\n",
    "\n",
    "Usage\n",
    "export_sport -s <strava> -d <20240414> -c <strava.token>\n",
    "\n",
    "-s source name, in small letters\n",
    "-d force date. Retrieve all activities from specified date onwards. If -d is not specified, then it will extract all activities since the last local database load.\n",
    "-c credentials file containing json in format:\n",
    "    {\"access_token\": \"xxx\", \"refresh_token\": \"xxx\", \"expires_at\": xxx}\n",
    "    assumes you have run the one-off authenticate script already\n",
    "    if not specified, assumes token file is in same directory and has the name \"<source>.token\"\n",
    "\n",
    "Logic\n",
    "\n",
    "store parameters in variables\n",
    "retrieve latest load date from pgres\n",
    "renew the strava tokens\n",
    "if source = strava:\n",
    "    retrieve activities\n",
    "    make gear list\n",
    "    retrieve gear\n",
    "\n",
    "--------------------------------------------------------\n",
    "\n",
    "Script 3: UPLOAD\n",
    "\n",
    "Usage\n",
    "upload_sport -s <strava>\n",
    "\n",
    "Logic\n",
    "store parameter(s) in variables\n",
    "find all file(s) for a given source from input folder (./Raw/<export_date>_<source>_<xxxx>.json)\n",
    "upload to STG: only load each record if ID doesnt exist yet\n",
    "move file(s) to processed folder (./Processed/)\n",
    "\n",
    "File map\n",
    "./Export/<source>/Raw/\n",
    "./Export/<source>/Processed/\n"
   ]
  },
  {
   "cell_type": "code",
   "execution_count": 2,
   "metadata": {},
   "outputs": [
    {
     "name": "stdout",
     "output_type": "stream",
     "text": [
      "87e83d90fc0d03f2c05631e2cd68ea02\n"
     ]
    }
   ],
   "source": [
    "# Example Hash\n",
    "import hashlib\n",
    "import json\n",
    "data = ['only', 'lists', [1,2,3], 'dictionaries', {'a':0,'b':1}, 'numbers', 47, 'strings']\n",
    "data_md5 = hashlib.md5(json.dumps(data, sort_keys=True).encode('utf-8')).hexdigest()\n",
    "print(data_md5)"
   ]
  },
  {
   "cell_type": "markdown",
   "metadata": {},
   "source": [
    "## Retrieve data using API"
   ]
  },
  {
   "cell_type": "markdown",
   "metadata": {},
   "source": [
    "### Get Athlete (one-off)"
   ]
  },
  {
   "cell_type": "code",
   "execution_count": 15,
   "metadata": {},
   "outputs": [],
   "source": [
    "athletes = client.get_athlete()"
   ]
  },
  {
   "cell_type": "code",
   "execution_count": 34,
   "metadata": {},
   "outputs": [
    {
     "name": "stdout",
     "output_type": "stream",
     "text": [
      "Hello, Nerrida\n",
      "bound_client=<stravalib.client.Client object at 0x000001D941D5D610> id=106384724 city=None country=None created_at=datetime.datetime(2022, 8, 1, 20, 14, 41, tzinfo=datetime.timezone.utc) firstname='Nerrida' lastname='Dempster' premium=False profile='https://dgalywyr863hv.cloudfront.net/pictures/athletes/106384724/25269633/2/large.jpg' profile_medium='https://dgalywyr863hv.cloudfront.net/pictures/athletes/106384724/25269633/2/medium.jpg' resource_state=2 sex=None state=None summit=False updated_at=datetime.datetime(2024, 4, 27, 18, 40, 26, tzinfo=datetime.timezone.utc) bikes=None clubs=None follower_count=None friend_count=None ftp=None measurement_preference=None shoes=None weight=0.0 is_authenticated=None athlete_type=None friend=None follower=None approve_followers=None badge_type_id=0 mutual_friend_count=None date_preference=None email=None super_user=None email_language=None max_heartrate=None username=None description=None instagram_username=None offer_in_app_payment=None global_privacy=None receive_newsletter=None email_kom_lost=None dateofbirth=None facebook_sharing_enabled=None profile_original=None premium_expiration_date=None email_send_follower_notices=None plan=None agreed_to_terms=None follower_request_count=None email_facebook_twitter_friend_joins=None receive_kudos_emails=None receive_follower_feed_emails=None receive_comment_emails=None sample_race_distance=None sample_race_time=None membership=None admin=None owner=None subscription_permissions=None\n",
      "{'id': 106384724, 'city': None, 'country': None, 'created_at': datetime.datetime(2022, 8, 1, 20, 14, 41, tzinfo=datetime.timezone.utc), 'firstname': 'Nerrida', 'lastname': 'Dempster', 'premium': False, 'profile': 'https://dgalywyr863hv.cloudfront.net/pictures/athletes/106384724/25269633/2/large.jpg', 'profile_medium': 'https://dgalywyr863hv.cloudfront.net/pictures/athletes/106384724/25269633/2/medium.jpg', 'resource_state': 2, 'sex': None, 'state': None, 'summit': False, 'updated_at': datetime.datetime(2024, 4, 27, 18, 40, 26, tzinfo=datetime.timezone.utc), 'bikes': None, 'clubs': None, 'follower_count': None, 'friend_count': None, 'ftp': None, 'measurement_preference': None, 'shoes': None, 'weight': 0.0, 'is_authenticated': None, 'athlete_type': None, 'friend': None, 'follower': None, 'approve_followers': None, 'badge_type_id': 0, 'mutual_friend_count': None, 'date_preference': None, 'email': None, 'super_user': None, 'email_language': None, 'max_heartrate': None, 'username': None, 'description': None, 'instagram_username': None, 'offer_in_app_payment': None, 'global_privacy': None, 'receive_newsletter': None, 'email_kom_lost': None, 'dateofbirth': None, 'facebook_sharing_enabled': None, 'profile_original': None, 'premium_expiration_date': None, 'email_send_follower_notices': None, 'plan': None, 'agreed_to_terms': None, 'follower_request_count': None, 'email_facebook_twitter_friend_joins': None, 'receive_kudos_emails': None, 'receive_follower_feed_emails': None, 'receive_comment_emails': None, 'sample_race_distance': None, 'sample_race_time': None, 'membership': None, 'admin': None, 'owner': None, 'subscription_permissions': None}\n",
      "\n",
      "\n"
     ]
    }
   ],
   "source": [
    "print(\"Hello, {}\".format(athletes.firstname))\n",
    "\n",
    "print(athletes)\n",
    "print(athletes.to_dict())\n",
    "print('\\n')\n",
    "\n",
    "with open('unit_test\\\\20240501_athlete.json', 'w') as outfile:\n",
    "    outfile.write(json.dumps(athletes.to_dict(), indent=4, sort_keys=True, default=str))\n"
   ]
  },
  {
   "cell_type": "markdown",
   "metadata": {},
   "source": [
    "### Get Activities (Repeatable)"
   ]
  },
  {
   "cell_type": "code",
   "execution_count": null,
   "metadata": {},
   "outputs": [],
   "source": [
    "activities = client.get_activities(limit=10)"
   ]
  },
  {
   "cell_type": "code",
   "execution_count": 44,
   "metadata": {},
   "outputs": [
    {
     "name": "stdout",
     "output_type": "stream",
     "text": [
      "{None, 'g11424741', 'g11260745', 'g17195389'}\n"
     ]
    }
   ],
   "source": [
    "gear_list = set()\n",
    "\n",
    "with open('unit_test\\\\20240501_activity.json', 'w') as outfile:\n",
    "    for activity in activities:\n",
    "        outfile.write(json.dumps(activity.to_dict(), indent=4, sort_keys=True, default=str))\n",
    "        gear_list.add(activity.to_dict()['gear_id'])\n",
    "\n",
    "print(gear_list)\n"
   ]
  },
  {
   "cell_type": "markdown",
   "metadata": {},
   "source": [
    "### Get Gear\n",
    "After retrieving all activities, make a list of distinct gear and retrieve it"
   ]
  },
  {
   "cell_type": "code",
   "execution_count": 49,
   "metadata": {},
   "outputs": [],
   "source": [
    "with open('unit_test\\\\20240501_gear.json', 'w') as outfile:\n",
    "    for gear_id in gear_list:\n",
    "        if gear_id is not None:\n",
    "            gear = client.get_gear(gear_id)\n",
    "            outfile.write(json.dumps(gear.to_dict(), indent=4, sort_keys=True, default=str))\n"
   ]
  },
  {
   "cell_type": "markdown",
   "metadata": {},
   "source": [
    "## Ingest to database\n",
    "\n",
    "Run program PGAdmin4\n",
    "\n",
    "In the left-hand pane, navigate to Databases. Right-click and create a new database: Sport_Activity_Tracker\n",
    "\n",
    "Utility to convert json to pgres ddl\n",
    "https://konbert.com/convert/json/to/postgres"
   ]
  },
  {
   "cell_type": "code",
   "execution_count": null,
   "metadata": {},
   "outputs": [],
   "source": []
  },
  {
   "cell_type": "code",
   "execution_count": null,
   "metadata": {},
   "outputs": [],
   "source": []
  }
 ],
 "metadata": {
  "kernelspec": {
   "display_name": "Python 3",
   "language": "python",
   "name": "python3"
  },
  "language_info": {
   "codemirror_mode": {
    "name": "ipython",
    "version": 3
   },
   "file_extension": ".py",
   "mimetype": "text/x-python",
   "name": "python",
   "nbconvert_exporter": "python",
   "pygments_lexer": "ipython3",
   "version": "3.12.2"
  }
 },
 "nbformat": 4,
 "nbformat_minor": 2
}
