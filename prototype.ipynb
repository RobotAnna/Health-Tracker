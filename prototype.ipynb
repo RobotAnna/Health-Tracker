{
 "cells": [
  {
   "cell_type": "markdown",
   "metadata": {},
   "source": [
    "Prototype where I write down all steps in case this becomes an instructional blog later.\n",
    "\n",
    "Approach:\n",
    "1. Set up connection to Strava\n",
    "2. Set up local pgres database\n",
    "3. Design\n",
    "4. Retrieve data using Strava API\n",
    "5. Load data to database"
   ]
  },
  {
   "cell_type": "markdown",
   "metadata": {},
   "source": [
    "# Export strava data (using Stravalib) to local\n",
    "\n",
    "This notebook includes the code as dicussed in the following Medium blog post:\n",
    "https://medium.com/@mandieq/accessing-user-data-via-the-strava-api-using-stravalib-d5bee7fdde17\n",
    "\n",
    "Documentation: authentication\n",
    "https://stravalib.readthedocs.io/en/latest/get-started/authenticate-with-strava.html\n",
    "\n",
    "Documentation: working with activities\n",
    "https://stravalib.readthedocs.io/en/latest/get-started/activities.html\n",
    "\n"
   ]
  },
  {
   "cell_type": "markdown",
   "metadata": {},
   "source": [
    "## Connection to Strava\n",
    "\n",
    "### Create a new application\n",
    "Log into strava.com, navigate to your profile, Settings, My API Application. Create an application.\n",
    "https://www.strava.com/settings/api\n",
    "\n",
    "Create a new application. Callback domain = localhost. Other parameters are arbitrary. Upload an icon. \n",
    "\n",
    "Make note of the client id and client secret. The other 2x tokens aren't useful because the scope isn't enough to retrieve data.\n"
   ]
  },
  {
   "cell_type": "markdown",
   "metadata": {},
   "source": [
    "Load ID and secret for your Strava App as set up via Strava's developer area:"
   ]
  },
  {
   "cell_type": "code",
   "execution_count": 3,
   "metadata": {},
   "outputs": [
    {
     "name": "stdout",
     "output_type": "stream",
     "text": [
      "client_ID= 108084 secret= bd51d6ce5c6c2e663f195859b3b092631bcd6242\n"
     ]
    }
   ],
   "source": [
    "CLIENT_ID = '108084'\n",
    "CLIENT_SECRET = 'bd51d6ce5c6c2e663f195859b3b092631bcd6242'\n",
    "print ('client_ID=', CLIENT_ID, 'secret=', CLIENT_SECRET)"
   ]
  },
  {
   "cell_type": "markdown",
   "metadata": {},
   "source": [
    "### One time authentication with athlete\n",
    "\n",
    "Only needs to be done once in order to get auth token. Hereafter you use the refresh token to get a new one when the old one runs out. \n",
    "\n",
    "The cells below need to be converted back to code cells in order to run them. Note: **once only**!\n",
    "\n",
    "Copy/paste the resulting URL into a browser. Click the Authorize button. Copy paste the resulting URL.\n",
    "Copy down the code in the middle of the URL (between code= and scope=)\n"
   ]
  },
  {
   "cell_type": "code",
   "execution_count": 9,
   "metadata": {},
   "outputs": [
    {
     "name": "stdout",
     "output_type": "stream",
     "text": [
      "https://www.strava.com/oauth/authorize?client_id=108084&redirect_uri=http%3A%2F%2F127.0.0.1%3A5000%2Fauthorization&approval_prompt=auto&scope=read%2Cactivity%3Aread&response_type=code\n",
      "auth_code= 0cfa95587f7f320a002dc2eaa89d9b1693aba03a\n"
     ]
    }
   ],
   "source": [
    "url = client.authorization_url(client_id=CLIENT_ID,\n",
    "                               redirect_uri='http://127.0.0.1:5000/authorization')\n",
    "print(url)\n",
    "\n",
    "#http://127.0.0.1:5000/authorization?state=&code=0cfa95587f7f320a002dc2eaa89d9b1693aba03a&scope=read,activity:read\n",
    "#0cfa95587f7f320a002dc2eaa89d9b1693aba03a\n",
    "\n"
   ]
  },
  {
   "cell_type": "code",
   "execution_count": 9,
   "metadata": {},
   "outputs": [
    {
     "name": "stdout",
     "output_type": "stream",
     "text": [
      "auth_code= 0cfa95587f7f320a002dc2eaa89d9b1693aba03a\n"
     ]
    }
   ],
   "source": [
    "AUTH_CODE = '0cfa95587f7f320a002dc2eaa89d9b1693aba03a'\n",
    "print('auth_code=', AUTH_CODE)"
   ]
  },
  {
   "cell_type": "markdown",
   "metadata": {},
   "source": [
    "### Exchange auth code for access token + refresh token"
   ]
  },
  {
   "cell_type": "code",
   "execution_count": 10,
   "metadata": {},
   "outputs": [],
   "source": [
    "import json\n",
    "from stravalib import Client\n",
    "client = Client()"
   ]
  },
  {
   "cell_type": "code",
   "execution_count": 11,
   "metadata": {},
   "outputs": [
    {
     "name": "stderr",
     "output_type": "stream",
     "text": [
      "No rates present in response headers\n"
     ]
    },
    {
     "ename": "Fault",
     "evalue": "400 Client Error: Bad Request [Bad Request: [{'resource': 'AuthorizationCode', 'field': 'code', 'code': 'invalid'}]]",
     "output_type": "error",
     "traceback": [
      "\u001b[1;31m---------------------------------------------------------------------------\u001b[0m",
      "\u001b[1;31mFault\u001b[0m                                     Traceback (most recent call last)",
      "Cell \u001b[1;32mIn[11], line 2\u001b[0m\n\u001b[0;32m      1\u001b[0m client \u001b[38;5;241m=\u001b[39m Client()\n\u001b[1;32m----> 2\u001b[0m token_response \u001b[38;5;241m=\u001b[39m \u001b[43mclient\u001b[49m\u001b[38;5;241;43m.\u001b[39;49m\u001b[43mexchange_code_for_token\u001b[49m\u001b[43m(\u001b[49m\u001b[43mclient_id\u001b[49m\u001b[38;5;241;43m=\u001b[39;49m\u001b[43mCLIENT_ID\u001b[49m\u001b[43m,\u001b[49m\n\u001b[0;32m      3\u001b[0m \u001b[43m                                              \u001b[49m\u001b[43mclient_secret\u001b[49m\u001b[38;5;241;43m=\u001b[39;49m\u001b[43mCLIENT_SECRET\u001b[49m\u001b[43m,\u001b[49m\n\u001b[0;32m      4\u001b[0m \u001b[43m                                              \u001b[49m\u001b[43mcode\u001b[49m\u001b[38;5;241;43m=\u001b[39;49m\u001b[43mAUTH_CODE\u001b[49m\u001b[43m)\u001b[49m\n\u001b[0;32m      5\u001b[0m access_token \u001b[38;5;241m=\u001b[39m token_response[\u001b[38;5;124m'\u001b[39m\u001b[38;5;124maccess_token\u001b[39m\u001b[38;5;124m'\u001b[39m]\n\u001b[0;32m      6\u001b[0m refresh_token \u001b[38;5;241m=\u001b[39m token_response[\u001b[38;5;124m'\u001b[39m\u001b[38;5;124mrefresh_token\u001b[39m\u001b[38;5;124m'\u001b[39m]  \u001b[38;5;66;03m# You'll need this in 6 hours\u001b[39;00m\n",
      "File \u001b[1;32mc:\\Users\\nerri\\AppData\\Local\\Programs\\Python\\Python311\\Lib\\site-packages\\stravalib\\client.py:203\u001b[0m, in \u001b[0;36mClient.exchange_code_for_token\u001b[1;34m(self, client_id, client_secret, code)\u001b[0m\n\u001b[0;32m    178\u001b[0m \u001b[38;5;28;01mdef\u001b[39;00m \u001b[38;5;21mexchange_code_for_token\u001b[39m(\n\u001b[0;32m    179\u001b[0m     \u001b[38;5;28mself\u001b[39m, client_id: \u001b[38;5;28mint\u001b[39m, client_secret: \u001b[38;5;28mstr\u001b[39m, code: \u001b[38;5;28mstr\u001b[39m\n\u001b[0;32m    180\u001b[0m ) \u001b[38;5;241m-\u001b[39m\u001b[38;5;241m>\u001b[39m AccessInfo:\n\u001b[0;32m    181\u001b[0m \u001b[38;5;250m    \u001b[39m\u001b[38;5;124;03m\"\"\"Exchange the temporary authorization code (returned with redirect\u001b[39;00m\n\u001b[0;32m    182\u001b[0m \u001b[38;5;124;03m    from strava authorization URL)  for a short-lived access token and a\u001b[39;00m\n\u001b[0;32m    183\u001b[0m \u001b[38;5;124;03m    refresh token (used to obtain the next access token later on).\u001b[39;00m\n\u001b[1;32m   (...)\u001b[0m\n\u001b[0;32m    201\u001b[0m \n\u001b[0;32m    202\u001b[0m \u001b[38;5;124;03m    \"\"\"\u001b[39;00m\n\u001b[1;32m--> 203\u001b[0m     \u001b[38;5;28;01mreturn\u001b[39;00m \u001b[38;5;28;43mself\u001b[39;49m\u001b[38;5;241;43m.\u001b[39;49m\u001b[43mprotocol\u001b[49m\u001b[38;5;241;43m.\u001b[39;49m\u001b[43mexchange_code_for_token\u001b[49m\u001b[43m(\u001b[49m\n\u001b[0;32m    204\u001b[0m \u001b[43m        \u001b[49m\u001b[43mclient_id\u001b[49m\u001b[38;5;241;43m=\u001b[39;49m\u001b[43mclient_id\u001b[49m\u001b[43m,\u001b[49m\u001b[43m \u001b[49m\u001b[43mclient_secret\u001b[49m\u001b[38;5;241;43m=\u001b[39;49m\u001b[43mclient_secret\u001b[49m\u001b[43m,\u001b[49m\u001b[43m \u001b[49m\u001b[43mcode\u001b[49m\u001b[38;5;241;43m=\u001b[39;49m\u001b[43mcode\u001b[49m\n\u001b[0;32m    205\u001b[0m \u001b[43m    \u001b[49m\u001b[43m)\u001b[49m\n",
      "File \u001b[1;32mc:\\Users\\nerri\\AppData\\Local\\Programs\\Python\\Python311\\Lib\\site-packages\\stravalib\\protocol.py:184\u001b[0m, in \u001b[0;36mApiV3.exchange_code_for_token\u001b[1;34m(self, client_id, client_secret, code)\u001b[0m\n\u001b[0;32m    161\u001b[0m \u001b[38;5;28;01mdef\u001b[39;00m \u001b[38;5;21mexchange_code_for_token\u001b[39m(\n\u001b[0;32m    162\u001b[0m     \u001b[38;5;28mself\u001b[39m, client_id: \u001b[38;5;28mint\u001b[39m, client_secret: \u001b[38;5;28mstr\u001b[39m, code: \u001b[38;5;28mstr\u001b[39m\n\u001b[0;32m    163\u001b[0m ) \u001b[38;5;241m-\u001b[39m\u001b[38;5;241m>\u001b[39m AccessInfo:\n\u001b[0;32m    164\u001b[0m \u001b[38;5;250m    \u001b[39m\u001b[38;5;124;03m\"\"\"Exchange the temporary authorization code (returned with redirect\u001b[39;00m\n\u001b[0;32m    165\u001b[0m \u001b[38;5;124;03m    from Strava authorization URL) for a short-lived access token and a\u001b[39;00m\n\u001b[0;32m    166\u001b[0m \u001b[38;5;124;03m    refresh token (used to obtain the next access token later on).\u001b[39;00m\n\u001b[1;32m   (...)\u001b[0m\n\u001b[0;32m    182\u001b[0m \u001b[38;5;124;03m        access token will expire)\u001b[39;00m\n\u001b[0;32m    183\u001b[0m \u001b[38;5;124;03m    \"\"\"\u001b[39;00m\n\u001b[1;32m--> 184\u001b[0m     response \u001b[38;5;241m=\u001b[39m \u001b[38;5;28;43mself\u001b[39;49m\u001b[38;5;241;43m.\u001b[39;49m\u001b[43m_request\u001b[49m\u001b[43m(\u001b[49m\n\u001b[0;32m    185\u001b[0m \u001b[43m        \u001b[49m\u001b[38;5;124;43mf\u001b[39;49m\u001b[38;5;124;43m\"\u001b[39;49m\u001b[38;5;124;43mhttps://\u001b[39;49m\u001b[38;5;132;43;01m{\u001b[39;49;00m\u001b[38;5;28;43mself\u001b[39;49m\u001b[38;5;241;43m.\u001b[39;49m\u001b[43mserver\u001b[49m\u001b[38;5;132;43;01m}\u001b[39;49;00m\u001b[38;5;124;43m/oauth/token\u001b[39;49m\u001b[38;5;124;43m\"\u001b[39;49m\u001b[43m,\u001b[49m\n\u001b[0;32m    186\u001b[0m \u001b[43m        \u001b[49m\u001b[43mparams\u001b[49m\u001b[38;5;241;43m=\u001b[39;49m\u001b[43m{\u001b[49m\n\u001b[0;32m    187\u001b[0m \u001b[43m            \u001b[49m\u001b[38;5;124;43m\"\u001b[39;49m\u001b[38;5;124;43mclient_id\u001b[39;49m\u001b[38;5;124;43m\"\u001b[39;49m\u001b[43m:\u001b[49m\u001b[43m \u001b[49m\u001b[43mclient_id\u001b[49m\u001b[43m,\u001b[49m\n\u001b[0;32m    188\u001b[0m \u001b[43m            \u001b[49m\u001b[38;5;124;43m\"\u001b[39;49m\u001b[38;5;124;43mclient_secret\u001b[39;49m\u001b[38;5;124;43m\"\u001b[39;49m\u001b[43m:\u001b[49m\u001b[43m \u001b[49m\u001b[43mclient_secret\u001b[49m\u001b[43m,\u001b[49m\n\u001b[0;32m    189\u001b[0m \u001b[43m            \u001b[49m\u001b[38;5;124;43m\"\u001b[39;49m\u001b[38;5;124;43mcode\u001b[39;49m\u001b[38;5;124;43m\"\u001b[39;49m\u001b[43m:\u001b[49m\u001b[43m \u001b[49m\u001b[43mcode\u001b[49m\u001b[43m,\u001b[49m\n\u001b[0;32m    190\u001b[0m \u001b[43m            \u001b[49m\u001b[38;5;124;43m\"\u001b[39;49m\u001b[38;5;124;43mgrant_type\u001b[39;49m\u001b[38;5;124;43m\"\u001b[39;49m\u001b[43m:\u001b[49m\u001b[43m \u001b[49m\u001b[38;5;124;43m\"\u001b[39;49m\u001b[38;5;124;43mauthorization_code\u001b[39;49m\u001b[38;5;124;43m\"\u001b[39;49m\u001b[43m,\u001b[49m\n\u001b[0;32m    191\u001b[0m \u001b[43m        \u001b[49m\u001b[43m}\u001b[49m\u001b[43m,\u001b[49m\n\u001b[0;32m    192\u001b[0m \u001b[43m        \u001b[49m\u001b[43mmethod\u001b[49m\u001b[38;5;241;43m=\u001b[39;49m\u001b[38;5;124;43m\"\u001b[39;49m\u001b[38;5;124;43mPOST\u001b[39;49m\u001b[38;5;124;43m\"\u001b[39;49m\u001b[43m,\u001b[49m\n\u001b[0;32m    193\u001b[0m \u001b[43m    \u001b[49m\u001b[43m)\u001b[49m\n\u001b[0;32m    194\u001b[0m     access_info: AccessInfo \u001b[38;5;241m=\u001b[39m {\n\u001b[0;32m    195\u001b[0m         \u001b[38;5;124m\"\u001b[39m\u001b[38;5;124maccess_token\u001b[39m\u001b[38;5;124m\"\u001b[39m: response[\u001b[38;5;124m\"\u001b[39m\u001b[38;5;124maccess_token\u001b[39m\u001b[38;5;124m\"\u001b[39m],\n\u001b[0;32m    196\u001b[0m         \u001b[38;5;124m\"\u001b[39m\u001b[38;5;124mrefresh_token\u001b[39m\u001b[38;5;124m\"\u001b[39m: response[\u001b[38;5;124m\"\u001b[39m\u001b[38;5;124mrefresh_token\u001b[39m\u001b[38;5;124m\"\u001b[39m],\n\u001b[0;32m    197\u001b[0m         \u001b[38;5;124m\"\u001b[39m\u001b[38;5;124mexpires_at\u001b[39m\u001b[38;5;124m\"\u001b[39m: response[\u001b[38;5;124m\"\u001b[39m\u001b[38;5;124mexpires_at\u001b[39m\u001b[38;5;124m\"\u001b[39m],\n\u001b[0;32m    198\u001b[0m     }\n\u001b[0;32m    199\u001b[0m     \u001b[38;5;28mself\u001b[39m\u001b[38;5;241m.\u001b[39maccess_token \u001b[38;5;241m=\u001b[39m response[\u001b[38;5;124m\"\u001b[39m\u001b[38;5;124maccess_token\u001b[39m\u001b[38;5;124m\"\u001b[39m]\n",
      "File \u001b[1;32mc:\\Users\\nerri\\AppData\\Local\\Programs\\Python\\Python311\\Lib\\site-packages\\stravalib\\protocol.py:325\u001b[0m, in \u001b[0;36mApiV3._request\u001b[1;34m(self, url, params, files, method, check_for_errors)\u001b[0m\n\u001b[0;32m    322\u001b[0m \u001b[38;5;28mself\u001b[39m\u001b[38;5;241m.\u001b[39mrate_limiter(raw\u001b[38;5;241m.\u001b[39mheaders, method)\n\u001b[0;32m    324\u001b[0m \u001b[38;5;28;01mif\u001b[39;00m check_for_errors:\n\u001b[1;32m--> 325\u001b[0m     \u001b[38;5;28;43mself\u001b[39;49m\u001b[38;5;241;43m.\u001b[39;49m\u001b[43m_handle_protocol_error\u001b[49m\u001b[43m(\u001b[49m\u001b[43mraw\u001b[49m\u001b[43m)\u001b[49m\n\u001b[0;32m    327\u001b[0m \u001b[38;5;66;03m# 204 = No content\u001b[39;00m\n\u001b[0;32m    328\u001b[0m \u001b[38;5;28;01mif\u001b[39;00m raw\u001b[38;5;241m.\u001b[39mstatus_code \u001b[38;5;129;01min\u001b[39;00m [\u001b[38;5;241m204\u001b[39m]:\n",
      "File \u001b[1;32mc:\\Users\\nerri\\AppData\\Local\\Programs\\Python\\Python311\\Lib\\site-packages\\stravalib\\protocol.py:376\u001b[0m, in \u001b[0;36mApiV3._handle_protocol_error\u001b[1;34m(self, response)\u001b[0m\n\u001b[0;32m    370\u001b[0m \u001b[38;5;28;01melif\u001b[39;00m \u001b[38;5;241m400\u001b[39m \u001b[38;5;241m<\u001b[39m\u001b[38;5;241m=\u001b[39m response\u001b[38;5;241m.\u001b[39mstatus_code \u001b[38;5;241m<\u001b[39m \u001b[38;5;241m500\u001b[39m:\n\u001b[0;32m    371\u001b[0m     msg \u001b[38;5;241m=\u001b[39m \u001b[38;5;124m\"\u001b[39m\u001b[38;5;132;01m{}\u001b[39;00m\u001b[38;5;124m Client Error: \u001b[39m\u001b[38;5;132;01m{}\u001b[39;00m\u001b[38;5;124m [\u001b[39m\u001b[38;5;132;01m{}\u001b[39;00m\u001b[38;5;124m]\u001b[39m\u001b[38;5;124m\"\u001b[39m\u001b[38;5;241m.\u001b[39mformat(\n\u001b[0;32m    372\u001b[0m         response\u001b[38;5;241m.\u001b[39mstatus_code,\n\u001b[0;32m    373\u001b[0m         response\u001b[38;5;241m.\u001b[39mreason,\n\u001b[0;32m    374\u001b[0m         error_str,\n\u001b[0;32m    375\u001b[0m     )\n\u001b[1;32m--> 376\u001b[0m     \u001b[38;5;28;01mraise\u001b[39;00m exc\u001b[38;5;241m.\u001b[39mFault(msg, response\u001b[38;5;241m=\u001b[39mresponse)\n\u001b[0;32m    377\u001b[0m \u001b[38;5;28;01melif\u001b[39;00m \u001b[38;5;241m500\u001b[39m \u001b[38;5;241m<\u001b[39m\u001b[38;5;241m=\u001b[39m response\u001b[38;5;241m.\u001b[39mstatus_code \u001b[38;5;241m<\u001b[39m \u001b[38;5;241m600\u001b[39m:\n\u001b[0;32m    378\u001b[0m     msg \u001b[38;5;241m=\u001b[39m \u001b[38;5;124m\"\u001b[39m\u001b[38;5;132;01m{}\u001b[39;00m\u001b[38;5;124m Server Error: \u001b[39m\u001b[38;5;132;01m{}\u001b[39;00m\u001b[38;5;124m [\u001b[39m\u001b[38;5;132;01m{}\u001b[39;00m\u001b[38;5;124m]\u001b[39m\u001b[38;5;124m\"\u001b[39m\u001b[38;5;241m.\u001b[39mformat(\n\u001b[0;32m    379\u001b[0m         response\u001b[38;5;241m.\u001b[39mstatus_code,\n\u001b[0;32m    380\u001b[0m         response\u001b[38;5;241m.\u001b[39mreason,\n\u001b[0;32m    381\u001b[0m         error_str,\n\u001b[0;32m    382\u001b[0m     )\n",
      "\u001b[1;31mFault\u001b[0m: 400 Client Error: Bad Request [Bad Request: [{'resource': 'AuthorizationCode', 'field': 'code', 'code': 'invalid'}]]"
     ]
    }
   ],
   "source": [
    "client = Client()\n",
    "token_response = client.exchange_code_for_token(client_id=CLIENT_ID,\n",
    "                                              client_secret=CLIENT_SECRET,\n",
    "                                              code=AUTH_CODE)\n",
    "access_token = token_response['access_token']\n",
    "refresh_token = token_response['refresh_token']  # You'll need this in 6 hours\n",
    "print(token_response)\n",
    "\n",
    "with open('strava.token', 'w') as outfile:\n",
    "    json.dump(token_response, outfile)\n"
   ]
  },
  {
   "cell_type": "code",
   "execution_count": 12,
   "metadata": {},
   "outputs": [
    {
     "name": "stdout",
     "output_type": "stream",
     "text": [
      "{'access_token': '687d63e48317d2f1f9bebed892b571aaa039ffc8', 'refresh_token': '0967598ae6324d33c3790bfe68e7a1cf84f42e20', 'expires_at': 1714267638}\n"
     ]
    }
   ],
   "source": [
    "# Retrieve tokens from token file\n",
    "token_string = ''\n",
    "with open('strava.token', 'r') as infile:\n",
    "    token_string = json.load(infile)\n",
    "print(token_string)"
   ]
  },
  {
   "cell_type": "markdown",
   "metadata": {},
   "source": [
    "### Refresh access token\n"
   ]
  },
  {
   "cell_type": "code",
   "execution_count": 13,
   "metadata": {},
   "outputs": [
    {
     "ename": "NameError",
     "evalue": "name 'refresh_token' is not defined",
     "output_type": "error",
     "traceback": [
      "\u001b[1;31m---------------------------------------------------------------------------\u001b[0m",
      "\u001b[1;31mNameError\u001b[0m                                 Traceback (most recent call last)",
      "Cell \u001b[1;32mIn[13], line 3\u001b[0m\n\u001b[0;32m      1\u001b[0m token_response \u001b[38;5;241m=\u001b[39m client\u001b[38;5;241m.\u001b[39mrefresh_access_token(client_id\u001b[38;5;241m=\u001b[39mCLIENT_ID,\n\u001b[0;32m      2\u001b[0m                                       client_secret\u001b[38;5;241m=\u001b[39mCLIENT_SECRET,\n\u001b[1;32m----> 3\u001b[0m                                       refresh_token\u001b[38;5;241m=\u001b[39m\u001b[43mrefresh_token\u001b[49m)\n\u001b[0;32m      4\u001b[0m \u001b[38;5;28mprint\u001b[39m(token_response)\n\u001b[0;32m      6\u001b[0m \u001b[38;5;28;01mwith\u001b[39;00m \u001b[38;5;28mopen\u001b[39m(\u001b[38;5;124m'\u001b[39m\u001b[38;5;124mstrava.token\u001b[39m\u001b[38;5;124m'\u001b[39m, \u001b[38;5;124m'\u001b[39m\u001b[38;5;124mw\u001b[39m\u001b[38;5;124m'\u001b[39m) \u001b[38;5;28;01mas\u001b[39;00m outfile:\n",
      "\u001b[1;31mNameError\u001b[0m: name 'refresh_token' is not defined"
     ]
    }
   ],
   "source": [
    "token_response = client.refresh_access_token(client_id=CLIENT_ID,\n",
    "                                      client_secret=CLIENT_SECRET,\n",
    "                                      refresh_token=refresh_token)\n",
    "print(token_response)\n",
    "\n",
    "with open('strava.token', 'w') as outfile:\n",
    "    json.dump(token_response, outfile)"
   ]
  },
  {
   "cell_type": "markdown",
   "metadata": {},
   "source": [
    "### check when token expires"
   ]
  },
  {
   "cell_type": "code",
   "execution_count": 17,
   "metadata": {},
   "outputs": [
    {
     "name": "stdout",
     "output_type": "stream",
     "text": [
      "expires_at= 1714267638\n",
      "2024-04-28 03:27:18\n"
     ]
    }
   ],
   "source": [
    "from datetime import datetime\n",
    "\n",
    "expires_at = '1714267638'\n",
    "print('expires_at=',expires_at)\n",
    "print(datetime.fromtimestamp(int(expires_at)))"
   ]
  },
  {
   "cell_type": "code",
   "execution_count": 23,
   "metadata": {},
   "outputs": [
    {
     "name": "stdout",
     "output_type": "stream",
     "text": [
      "1714247218.7974396\n",
      "2024-04-27 21:46:58.797439\n",
      "no need to renew the refresh token\n"
     ]
    }
   ],
   "source": [
    "\n",
    "print(datetime.now())\n",
    "\n",
    "if datetime.now() < datetime.fromtimestamp(int(expires_at)):\n",
    "    print('no need to renew the refresh token')\n",
    "elif datetime.now() > datetime.fromtimestamp(int(expires_at)):\n",
    "    print('time to renew the refresh token')\n",
    "else:\n",
    "    print('dunno')\n"
   ]
  },
  {
   "cell_type": "markdown",
   "metadata": {},
   "source": [
    "## Design"
   ]
  },
  {
   "cell_type": "markdown",
   "metadata": {},
   "source": [
    "\n",
    "\n",
    "Create one schema for historical load of raw data: STG (staging)\n",
    "Create one schema for transformed model: DM (data mart)\n",
    "\n",
    "The source tables under STG, format <source name>_<api or entity> Eg.\n",
    "STRAVA_ATHLETE\n",
    "STRAVA_GEAR\n",
    "STRAVA_ACTIVITY\n",
    "REF_DATE\n",
    "KNMI_weather_something\n",
    "GARMIN_SLEEP\n",
    "GARMIN_ATHLETE\n",
    "GARMIN_period_something\n"
   ]
  },
  {
   "cell_type": "code",
   "execution_count": null,
   "metadata": {},
   "outputs": [],
   "source": []
  },
  {
   "cell_type": "code",
   "execution_count": null,
   "metadata": {},
   "outputs": [],
   "source": []
  },
  {
   "cell_type": "markdown",
   "metadata": {},
   "source": [
    "## Retrieve data using API"
   ]
  },
  {
   "cell_type": "markdown",
   "metadata": {},
   "source": [
    "### Get Athlete (one-off)"
   ]
  },
  {
   "cell_type": "code",
   "execution_count": 24,
   "metadata": {},
   "outputs": [
    {
     "name": "stdout",
     "output_type": "stream",
     "text": [
      "bound_client=<stravalib.client.Client object at 0x000001536E12EBD0> id=106384724 city=None country=None created_at=datetime.datetime(2022, 8, 1, 20, 14, 41, tzinfo=datetime.timezone.utc) firstname='Nerrida' lastname='Dempster' premium=False profile='https://dgalywyr863hv.cloudfront.net/pictures/athletes/106384724/25269633/2/large.jpg' profile_medium='https://dgalywyr863hv.cloudfront.net/pictures/athletes/106384724/25269633/2/medium.jpg' resource_state=2 sex=None state=None summit=False updated_at=datetime.datetime(2024, 4, 27, 18, 40, 26, tzinfo=datetime.timezone.utc) bikes=None clubs=None follower_count=None friend_count=None ftp=None measurement_preference=None shoes=None weight=0.0 is_authenticated=None athlete_type=None friend=None follower=None approve_followers=None badge_type_id=0 mutual_friend_count=None date_preference=None email=None super_user=None email_language=None max_heartrate=None username=None description=None instagram_username=None offer_in_app_payment=None global_privacy=None receive_newsletter=None email_kom_lost=None dateofbirth=None facebook_sharing_enabled=None profile_original=None premium_expiration_date=None email_send_follower_notices=None plan=None agreed_to_terms=None follower_request_count=None email_facebook_twitter_friend_joins=None receive_kudos_emails=None receive_follower_feed_emails=None receive_comment_emails=None sample_race_distance=None sample_race_time=None membership=None admin=None owner=None subscription_permissions=None\n"
     ]
    }
   ],
   "source": [
    "athlete = client.get_athlete()\n",
    "print(athlete)\n",
    "\n",
    "\n",
    "bound_client = <stravalib.client.Client object at 0x000001536E12EBD0> \n",
    "id=106384724 \n",
    "city=None \n",
    "country=None \n",
    "created_at=datetime.datetime(2022, 8, 1, 20, 14, 41, tzinfo=datetime.timezone.utc) \n",
    "firstname='Nerrida' \n",
    "lastname='Dempster' \n",
    "premium=False \n",
    "profile='https://dgalywyr863hv.cloudfront.net/pictures/athletes/106384724/25269633/2/large.jpg' \n",
    "profile_medium='https://dgalywyr863hv.cloudfront.net/pictures/athletes/106384724/25269633/2/medium.jpg' \n",
    "resource_state=2 \n",
    "sex=None \n",
    "state=None \n",
    "summit=False \n",
    "updated_at=datetime.datetime(2024, 4, 27, 18, 40, 26, tzinfo=datetime.timezone.utc) \n",
    "bikes=None clubs=None follower_count=None friend_count=None ftp=None measurement_preference=None shoes=None weight=0.0 \n",
    "is_authenticated=None athlete_type=None friend=None follower=None approve_followers=None badge_type_id=0 mutual_friend_count=None date_preference=None \n",
    "email=None super_user=None email_language=None max_heartrate=None username=None description=None instagram_username=None offer_in_app_payment=None \n",
    "global_privacy=None receive_newsletter=None email_kom_lost=None dateofbirth=None facebook_sharing_enabled=None profile_original=None \n",
    "premium_expiration_date=None email_send_follower_notices=None plan=None agreed_to_terms=None follower_request_count=None \n",
    "email_facebook_twitter_friend_joins=None receive_kudos_emails=None receive_follower_feed_emails=None receive_comment_emails=None \n",
    "sample_race_distance=None sample_race_time=None membership=None admin=None owner=None subscription_permissions=None\n"
   ]
  },
  {
   "cell_type": "markdown",
   "metadata": {},
   "source": [
    "Get Athlete Stats"
   ]
  },
  {
   "cell_type": "code",
   "execution_count": 25,
   "metadata": {},
   "outputs": [
    {
     "name": "stdout",
     "output_type": "stream",
     "text": [
      "all_ride_totals=ActivityTotals(achievement_count=None, count=9, distance=140543.0, elapsed_time=datetime.timedelta(seconds=42100), elevation_gain=317.0, moving_time=datetime.timedelta(seconds=29257)) all_run_totals=ActivityTotals(achievement_count=None, count=52, distance=154589.0, elapsed_time=datetime.timedelta(seconds=74898), elevation_gain=15.0, moving_time=datetime.timedelta(seconds=73419)) all_swim_totals=ActivityTotals(achievement_count=None, count=0, distance=0.0, elapsed_time=datetime.timedelta(0), elevation_gain=0.0, moving_time=datetime.timedelta(0)) biggest_climb_elevation_gain=20.9 biggest_ride_distance=29129.9 recent_ride_totals=ActivityTotals(achievement_count=0, count=1, distance=6571.25, elapsed_time=datetime.timedelta(seconds=2264), elevation_gain=2.825714349746704, moving_time=datetime.timedelta(seconds=1400)) recent_run_totals=ActivityTotals(achievement_count=0, count=8, distance=22480.0, elapsed_time=datetime.timedelta(seconds=9446), elevation_gain=0.0, moving_time=datetime.timedelta(seconds=9446)) recent_swim_totals=ActivityTotals(achievement_count=0, count=0, distance=0.0, elapsed_time=datetime.timedelta(0), elevation_gain=0.0, moving_time=datetime.timedelta(0)) ytd_ride_totals=ActivityTotals(achievement_count=None, count=6, distance=86504.0, elapsed_time=datetime.timedelta(seconds=20022), elevation_gain=65.0, moving_time=datetime.timedelta(seconds=16838)) ytd_run_totals=ActivityTotals(achievement_count=None, count=17, distance=36808.0, elapsed_time=datetime.timedelta(seconds=16810), elevation_gain=0.0, moving_time=datetime.timedelta(seconds=16807)) ytd_swim_totals=ActivityTotals(achievement_count=None, count=0, distance=0.0, elapsed_time=datetime.timedelta(0), elevation_gain=0.0, moving_time=datetime.timedelta(0))\n"
     ]
    }
   ],
   "source": [
    "athlete_stats = client.get_athlete_stats()\n",
    "print(athlete_stats)\n",
    "\n",
    "\n",
    "all_ride_totals=ActivityTotals(achievement_count=None, count=9, distance=140543.0, elapsed_time=datetime.timedelta(seconds=42100), elevation_gain=317.0, moving_time=datetime.timedelta(seconds=29257)) \n",
    "all_run_totals=ActivityTotals(achievement_count=None, count=52, distance=154589.0, elapsed_time=datetime.timedelta(seconds=74898), elevation_gain=15.0, moving_time=datetime.timedelta(seconds=73419)) \n",
    "all_swim_totals=ActivityTotals(achievement_count=None, count=0, distance=0.0, elapsed_time=datetime.timedelta(0), elevation_gain=0.0, moving_time=datetime.timedelta(0)) \n",
    "biggest_climb_elevation_gain=20.9 biggest_ride_distance=29129.9 recent_ride_totals=ActivityTotals(achievement_count=0, count=1, distance=6571.25, elapsed_time=datetime.timedelta(seconds=2264), elevation_gain=2.825714349746704, moving_time=datetime.timedelta(seconds=1400)) recent_run_totals=ActivityTotals(achievement_count=0, count=8, distance=22480.0, elapsed_time=datetime.timedelta(seconds=9446), elevation_gain=0.0, moving_time=datetime.timedelta(seconds=9446)) recent_swim_totals=ActivityTotals(achievement_count=0, count=0, distance=0.0, elapsed_time=datetime.timedelta(0), elevation_gain=0.0, moving_time=datetime.timedelta(0)) ytd_ride_totals=ActivityTotals(achievement_count=None, count=6, distance=86504.0, elapsed_time=datetime.timedelta(seconds=20022), elevation_gain=65.0, moving_time=datetime.timedelta(seconds=16838)) ytd_run_totals=ActivityTotals(achievement_count=None, count=17, distance=36808.0, elapsed_time=datetime.timedelta(seconds=16810), elevation_gain=0.0, moving_time=datetime.timedelta(seconds=16807)) ytd_swim_totals=ActivityTotals(achievement_count=None, count=0, distance=0.0, elapsed_time=datetime.timedelta(0), elevation_gain=0.0, moving_time=datetime.timedelta(0))\n"
   ]
  },
  {
   "cell_type": "markdown",
   "metadata": {},
   "source": [
    "### Get Activities (Repeatable)"
   ]
  },
  {
   "cell_type": "code",
   "execution_count": 1,
   "metadata": {},
   "outputs": [
    {
     "ename": "NameError",
     "evalue": "name 'client' is not defined",
     "output_type": "error",
     "traceback": [
      "\u001b[1;31m---------------------------------------------------------------------------\u001b[0m",
      "\u001b[1;31mNameError\u001b[0m                                 Traceback (most recent call last)",
      "Cell \u001b[1;32mIn[1], line 1\u001b[0m\n\u001b[1;32m----> 1\u001b[0m activities \u001b[38;5;241m=\u001b[39m \u001b[43mclient\u001b[49m\u001b[38;5;241m.\u001b[39mget_activities(limit\u001b[38;5;241m=\u001b[39m\u001b[38;5;241m3\u001b[39m)\n\u001b[0;32m      3\u001b[0m \u001b[38;5;28;01mfor\u001b[39;00m activity \u001b[38;5;129;01min\u001b[39;00m activities:\n\u001b[0;32m      4\u001b[0m     \u001b[38;5;28mprint\u001b[39m(activity)\n",
      "\u001b[1;31mNameError\u001b[0m: name 'client' is not defined"
     ]
    }
   ],
   "source": [
    "activities = client.get_activities(limit=3)\n",
    "\n",
    "for activity in activities:\n",
    "    print(activity)"
   ]
  },
  {
   "cell_type": "code",
   "execution_count": 35,
   "metadata": {},
   "outputs": [
    {
     "name": "stdout",
     "output_type": "stream",
     "text": [
      "11269224530 Weighed walk 8kg 2024-04-26 15:13:09+00:00 0:56:06\n",
      "11261527928 Treadmill jog 2024-04-25 14:12:54+00:00 0:20:22\n",
      "11247062574 Treadmill jog 2024-04-23 15:51:52+00:00 0:20:34\n",
      "11239384435 Treadmill jog 2024-04-22 15:31:55+00:00 0:21:21\n",
      "11232759663 Afternoon Walk 2024-04-21 12:00:34+00:00 0:31:14\n",
      "11223836583 Yoga 2024-04-20 12:47:55+00:00 0:33:36\n",
      "11223490375 Treadmill jog 2024-04-20 12:09:16+00:00 0:26:23\n",
      "11211687883 Evening Walk 2024-04-18 16:44:13+00:00 1:16:01\n",
      "11196806607 Weighted walk 8kg 2024-04-16 17:17:07+00:00 0:42:33\n",
      "11183483728 Treadmill jog 2024-04-14 19:02:14+00:00 0:20:19\n"
     ]
    }
   ],
   "source": [
    "for activity in activities:\n",
    "    print(\"{0.id} {0.name} {0.start_date} {0.moving_time}\".format(activity))\n"
   ]
  },
  {
   "cell_type": "markdown",
   "metadata": {},
   "source": [
    "### Get Gear\n",
    "After retrieving all activities, make a list of distinct gear and retrieve it"
   ]
  },
  {
   "cell_type": "code",
   "execution_count": 32,
   "metadata": {},
   "outputs": [
    {
     "name": "stdout",
     "output_type": "stream",
     "text": [
      "distance=805092.0 id='g11424741' name='Meindl UTAH GTX' primary=False resource_state=3 brand_name='Meindl' description=None frame_type=None model_name='UTAH GTX'\n"
     ]
    }
   ],
   "source": [
    "gear_id = 'g11424741'\n",
    "gear = client.get_gear(gear_id)\n",
    "print(gear)\n",
    "\n",
    "#distance=261640.0 id='g11260745' name='Brooks Defyance 12' primary=False resource_state=3 brand_name='Brooks' description=None frame_type=None model_name='Defyance 12'\n",
    "#distance=805092.0 id='g11424741' name='Meindl UTAH GTX' primary=False resource_state=3 brand_name='Meindl' description=None frame_type=None model_name='UTAH GTX'\n"
   ]
  },
  {
   "cell_type": "markdown",
   "metadata": {},
   "source": [
    "## Ingest to database\n",
    "\n",
    "Run program PGAdmin4\n",
    "\n",
    "In the left-hand pane, navigate to Databases. Right-click and create a new database: Sport_Activity_Tracker\n",
    "\n",
    "Utility to convert json to pgres ddl\n",
    "https://konbert.com/convert/json/to/postgres"
   ]
  },
  {
   "cell_type": "code",
   "execution_count": null,
   "metadata": {},
   "outputs": [],
   "source": []
  },
  {
   "cell_type": "markdown",
   "metadata": {},
   "source": [
    "## To do, improvements\n",
    "\n",
    "Consider additional data sources:\n",
    "* Garmin for sleep and period data\n",
    "* KNMI for weather\n",
    "* Date dimension\n",
    "* Transform to custom activity types\n",
    "* Add measures as defined in ideas.txt"
   ]
  }
 ],
 "metadata": {
  "kernelspec": {
   "display_name": "Python 3",
   "language": "python",
   "name": "python3"
  },
  "language_info": {
   "codemirror_mode": {
    "name": "ipython",
    "version": 3
   },
   "file_extension": ".py",
   "mimetype": "text/x-python",
   "name": "python",
   "nbconvert_exporter": "python",
   "pygments_lexer": "ipython3",
   "version": "3.11.7"
  }
 },
 "nbformat": 4,
 "nbformat_minor": 2
}
